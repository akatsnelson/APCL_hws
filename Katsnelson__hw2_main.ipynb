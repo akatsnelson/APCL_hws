{
  "cells": [
    {
      "cell_type": "markdown",
      "id": "b20f786e",
      "metadata": {
        "id": "b20f786e"
      },
      "source": [
        "# Домашнее задание № 2. Мешок слов"
      ]
    },
    {
      "cell_type": "markdown",
      "id": "0cf72d19",
      "metadata": {
        "id": "0cf72d19"
      },
      "source": [
        "## Задание 1 (3 балла)"
      ]
    },
    {
      "cell_type": "markdown",
      "id": "4a045e99",
      "metadata": {
        "id": "4a045e99"
      },
      "source": [
        "У векторайзеров в sklearn есть встроенная токенизация на регулярных выражениях. Найдите способо заменить её на кастомную токенизацию"
      ]
    },
    {
      "cell_type": "markdown",
      "id": "90b4d453",
      "metadata": {
        "id": "90b4d453"
      },
      "source": [
        "Обучите векторайзер с дефолтной токенизацией и с токенизацией razdel.tokenize. Обучите классификатор (любой) с каждым из векторизаторов. Сравните метрики и выберете победителя.\n",
        "\n",
        "(в вашей тетрадке должен быть код обучения и все метрики; если вы сдаете в .py файлах то сохраните полученные метрики в отдельном файле или в комментариях)"
      ]
    },
    {
      "cell_type": "code",
      "source": [
        "!wget https://github.com/mannefedov/compling_nlp_hse_course/raw/refs/heads/master/notebooks/bow/labeled.csv.zip"
      ],
      "metadata": {
        "colab": {
          "base_uri": "https://localhost:8080/"
        },
        "id": "3S33OntGH1w9",
        "outputId": "98ca3771-3bcf-426a-aa5d-435224ad337b"
      },
      "id": "3S33OntGH1w9",
      "execution_count": 1,
      "outputs": [
        {
          "output_type": "stream",
          "name": "stdout",
          "text": [
            "--2024-11-24 18:52:31--  https://github.com/mannefedov/compling_nlp_hse_course/raw/refs/heads/master/notebooks/bow/labeled.csv.zip\n",
            "Resolving github.com (github.com)... 140.82.112.4\n",
            "Connecting to github.com (github.com)|140.82.112.4|:443... connected.\n",
            "HTTP request sent, awaiting response... 302 Found\n",
            "Location: https://raw.githubusercontent.com/mannefedov/compling_nlp_hse_course/refs/heads/master/notebooks/bow/labeled.csv.zip [following]\n",
            "--2024-11-24 18:52:32--  https://raw.githubusercontent.com/mannefedov/compling_nlp_hse_course/refs/heads/master/notebooks/bow/labeled.csv.zip\n",
            "Resolving raw.githubusercontent.com (raw.githubusercontent.com)... 185.199.108.133, 185.199.109.133, 185.199.110.133, ...\n",
            "Connecting to raw.githubusercontent.com (raw.githubusercontent.com)|185.199.108.133|:443... connected.\n",
            "HTTP request sent, awaiting response... 200 OK\n",
            "Length: 1463222 (1.4M) [application/zip]\n",
            "Saving to: ‘labeled.csv.zip’\n",
            "\n",
            "labeled.csv.zip     100%[===================>]   1.39M  --.-KB/s    in 0.04s   \n",
            "\n",
            "2024-11-24 18:52:32 (32.1 MB/s) - ‘labeled.csv.zip’ saved [1463222/1463222]\n",
            "\n"
          ]
        }
      ]
    },
    {
      "cell_type": "code",
      "source": [
        "!unzip labeled.csv.zip"
      ],
      "metadata": {
        "colab": {
          "base_uri": "https://localhost:8080/"
        },
        "id": "f_HAx74_H3bS",
        "outputId": "fbd42cb0-243d-4d10-8136-89b1ac77e8b0"
      },
      "id": "f_HAx74_H3bS",
      "execution_count": 6,
      "outputs": [
        {
          "output_type": "stream",
          "name": "stdout",
          "text": [
            "Archive:  labeled.csv.zip\n",
            "  inflating: labeled.csv             \n",
            "  inflating: __MACOSX/._labeled.csv  \n"
          ]
        }
      ]
    },
    {
      "cell_type": "code",
      "execution_count": 7,
      "id": "129c4d2e",
      "metadata": {
        "id": "129c4d2e"
      },
      "outputs": [],
      "source": [
        "import pandas as pd"
      ]
    },
    {
      "cell_type": "code",
      "execution_count": 8,
      "id": "b4314de5",
      "metadata": {
        "id": "b4314de5"
      },
      "outputs": [],
      "source": [
        "data = pd.read_csv('labeled.csv')"
      ]
    },
    {
      "cell_type": "code",
      "execution_count": 9,
      "id": "cbffbbc7",
      "metadata": {
        "colab": {
          "base_uri": "https://localhost:8080/",
          "height": 204
        },
        "id": "cbffbbc7",
        "outputId": "e86c1697-6d4f-4fee-87a5-44a7726914b4"
      },
      "outputs": [
        {
          "output_type": "execute_result",
          "data": {
            "text/plain": [
              "                                             comment  toxic\n",
              "0               Верблюдов-то за что? Дебилы, бл...\\n    1.0\n",
              "1  Хохлы, это отдушина затюканого россиянина, мол...    1.0\n",
              "2                          Собаке - собачья смерть\\n    1.0\n",
              "3  Страницу обнови, дебил. Это тоже не оскорблени...    1.0\n",
              "4  тебя не убедил 6-страничный пдф в том, что Скр...    1.0"
            ],
            "text/html": [
              "\n",
              "  <div id=\"df-8b5981ac-e2d6-4057-9f96-e806544823d3\" class=\"colab-df-container\">\n",
              "    <div>\n",
              "<style scoped>\n",
              "    .dataframe tbody tr th:only-of-type {\n",
              "        vertical-align: middle;\n",
              "    }\n",
              "\n",
              "    .dataframe tbody tr th {\n",
              "        vertical-align: top;\n",
              "    }\n",
              "\n",
              "    .dataframe thead th {\n",
              "        text-align: right;\n",
              "    }\n",
              "</style>\n",
              "<table border=\"1\" class=\"dataframe\">\n",
              "  <thead>\n",
              "    <tr style=\"text-align: right;\">\n",
              "      <th></th>\n",
              "      <th>comment</th>\n",
              "      <th>toxic</th>\n",
              "    </tr>\n",
              "  </thead>\n",
              "  <tbody>\n",
              "    <tr>\n",
              "      <th>0</th>\n",
              "      <td>Верблюдов-то за что? Дебилы, бл...\\n</td>\n",
              "      <td>1.0</td>\n",
              "    </tr>\n",
              "    <tr>\n",
              "      <th>1</th>\n",
              "      <td>Хохлы, это отдушина затюканого россиянина, мол...</td>\n",
              "      <td>1.0</td>\n",
              "    </tr>\n",
              "    <tr>\n",
              "      <th>2</th>\n",
              "      <td>Собаке - собачья смерть\\n</td>\n",
              "      <td>1.0</td>\n",
              "    </tr>\n",
              "    <tr>\n",
              "      <th>3</th>\n",
              "      <td>Страницу обнови, дебил. Это тоже не оскорблени...</td>\n",
              "      <td>1.0</td>\n",
              "    </tr>\n",
              "    <tr>\n",
              "      <th>4</th>\n",
              "      <td>тебя не убедил 6-страничный пдф в том, что Скр...</td>\n",
              "      <td>1.0</td>\n",
              "    </tr>\n",
              "  </tbody>\n",
              "</table>\n",
              "</div>\n",
              "    <div class=\"colab-df-buttons\">\n",
              "\n",
              "  <div class=\"colab-df-container\">\n",
              "    <button class=\"colab-df-convert\" onclick=\"convertToInteractive('df-8b5981ac-e2d6-4057-9f96-e806544823d3')\"\n",
              "            title=\"Convert this dataframe to an interactive table.\"\n",
              "            style=\"display:none;\">\n",
              "\n",
              "  <svg xmlns=\"http://www.w3.org/2000/svg\" height=\"24px\" viewBox=\"0 -960 960 960\">\n",
              "    <path d=\"M120-120v-720h720v720H120Zm60-500h600v-160H180v160Zm220 220h160v-160H400v160Zm0 220h160v-160H400v160ZM180-400h160v-160H180v160Zm440 0h160v-160H620v160ZM180-180h160v-160H180v160Zm440 0h160v-160H620v160Z\"/>\n",
              "  </svg>\n",
              "    </button>\n",
              "\n",
              "  <style>\n",
              "    .colab-df-container {\n",
              "      display:flex;\n",
              "      gap: 12px;\n",
              "    }\n",
              "\n",
              "    .colab-df-convert {\n",
              "      background-color: #E8F0FE;\n",
              "      border: none;\n",
              "      border-radius: 50%;\n",
              "      cursor: pointer;\n",
              "      display: none;\n",
              "      fill: #1967D2;\n",
              "      height: 32px;\n",
              "      padding: 0 0 0 0;\n",
              "      width: 32px;\n",
              "    }\n",
              "\n",
              "    .colab-df-convert:hover {\n",
              "      background-color: #E2EBFA;\n",
              "      box-shadow: 0px 1px 2px rgba(60, 64, 67, 0.3), 0px 1px 3px 1px rgba(60, 64, 67, 0.15);\n",
              "      fill: #174EA6;\n",
              "    }\n",
              "\n",
              "    .colab-df-buttons div {\n",
              "      margin-bottom: 4px;\n",
              "    }\n",
              "\n",
              "    [theme=dark] .colab-df-convert {\n",
              "      background-color: #3B4455;\n",
              "      fill: #D2E3FC;\n",
              "    }\n",
              "\n",
              "    [theme=dark] .colab-df-convert:hover {\n",
              "      background-color: #434B5C;\n",
              "      box-shadow: 0px 1px 3px 1px rgba(0, 0, 0, 0.15);\n",
              "      filter: drop-shadow(0px 1px 2px rgba(0, 0, 0, 0.3));\n",
              "      fill: #FFFFFF;\n",
              "    }\n",
              "  </style>\n",
              "\n",
              "    <script>\n",
              "      const buttonEl =\n",
              "        document.querySelector('#df-8b5981ac-e2d6-4057-9f96-e806544823d3 button.colab-df-convert');\n",
              "      buttonEl.style.display =\n",
              "        google.colab.kernel.accessAllowed ? 'block' : 'none';\n",
              "\n",
              "      async function convertToInteractive(key) {\n",
              "        const element = document.querySelector('#df-8b5981ac-e2d6-4057-9f96-e806544823d3');\n",
              "        const dataTable =\n",
              "          await google.colab.kernel.invokeFunction('convertToInteractive',\n",
              "                                                    [key], {});\n",
              "        if (!dataTable) return;\n",
              "\n",
              "        const docLinkHtml = 'Like what you see? Visit the ' +\n",
              "          '<a target=\"_blank\" href=https://colab.research.google.com/notebooks/data_table.ipynb>data table notebook</a>'\n",
              "          + ' to learn more about interactive tables.';\n",
              "        element.innerHTML = '';\n",
              "        dataTable['output_type'] = 'display_data';\n",
              "        await google.colab.output.renderOutput(dataTable, element);\n",
              "        const docLink = document.createElement('div');\n",
              "        docLink.innerHTML = docLinkHtml;\n",
              "        element.appendChild(docLink);\n",
              "      }\n",
              "    </script>\n",
              "  </div>\n",
              "\n",
              "\n",
              "<div id=\"df-54615649-f9e7-4b04-b53b-e62f4432445c\">\n",
              "  <button class=\"colab-df-quickchart\" onclick=\"quickchart('df-54615649-f9e7-4b04-b53b-e62f4432445c')\"\n",
              "            title=\"Suggest charts\"\n",
              "            style=\"display:none;\">\n",
              "\n",
              "<svg xmlns=\"http://www.w3.org/2000/svg\" height=\"24px\"viewBox=\"0 0 24 24\"\n",
              "     width=\"24px\">\n",
              "    <g>\n",
              "        <path d=\"M19 3H5c-1.1 0-2 .9-2 2v14c0 1.1.9 2 2 2h14c1.1 0 2-.9 2-2V5c0-1.1-.9-2-2-2zM9 17H7v-7h2v7zm4 0h-2V7h2v10zm4 0h-2v-4h2v4z\"/>\n",
              "    </g>\n",
              "</svg>\n",
              "  </button>\n",
              "\n",
              "<style>\n",
              "  .colab-df-quickchart {\n",
              "      --bg-color: #E8F0FE;\n",
              "      --fill-color: #1967D2;\n",
              "      --hover-bg-color: #E2EBFA;\n",
              "      --hover-fill-color: #174EA6;\n",
              "      --disabled-fill-color: #AAA;\n",
              "      --disabled-bg-color: #DDD;\n",
              "  }\n",
              "\n",
              "  [theme=dark] .colab-df-quickchart {\n",
              "      --bg-color: #3B4455;\n",
              "      --fill-color: #D2E3FC;\n",
              "      --hover-bg-color: #434B5C;\n",
              "      --hover-fill-color: #FFFFFF;\n",
              "      --disabled-bg-color: #3B4455;\n",
              "      --disabled-fill-color: #666;\n",
              "  }\n",
              "\n",
              "  .colab-df-quickchart {\n",
              "    background-color: var(--bg-color);\n",
              "    border: none;\n",
              "    border-radius: 50%;\n",
              "    cursor: pointer;\n",
              "    display: none;\n",
              "    fill: var(--fill-color);\n",
              "    height: 32px;\n",
              "    padding: 0;\n",
              "    width: 32px;\n",
              "  }\n",
              "\n",
              "  .colab-df-quickchart:hover {\n",
              "    background-color: var(--hover-bg-color);\n",
              "    box-shadow: 0 1px 2px rgba(60, 64, 67, 0.3), 0 1px 3px 1px rgba(60, 64, 67, 0.15);\n",
              "    fill: var(--button-hover-fill-color);\n",
              "  }\n",
              "\n",
              "  .colab-df-quickchart-complete:disabled,\n",
              "  .colab-df-quickchart-complete:disabled:hover {\n",
              "    background-color: var(--disabled-bg-color);\n",
              "    fill: var(--disabled-fill-color);\n",
              "    box-shadow: none;\n",
              "  }\n",
              "\n",
              "  .colab-df-spinner {\n",
              "    border: 2px solid var(--fill-color);\n",
              "    border-color: transparent;\n",
              "    border-bottom-color: var(--fill-color);\n",
              "    animation:\n",
              "      spin 1s steps(1) infinite;\n",
              "  }\n",
              "\n",
              "  @keyframes spin {\n",
              "    0% {\n",
              "      border-color: transparent;\n",
              "      border-bottom-color: var(--fill-color);\n",
              "      border-left-color: var(--fill-color);\n",
              "    }\n",
              "    20% {\n",
              "      border-color: transparent;\n",
              "      border-left-color: var(--fill-color);\n",
              "      border-top-color: var(--fill-color);\n",
              "    }\n",
              "    30% {\n",
              "      border-color: transparent;\n",
              "      border-left-color: var(--fill-color);\n",
              "      border-top-color: var(--fill-color);\n",
              "      border-right-color: var(--fill-color);\n",
              "    }\n",
              "    40% {\n",
              "      border-color: transparent;\n",
              "      border-right-color: var(--fill-color);\n",
              "      border-top-color: var(--fill-color);\n",
              "    }\n",
              "    60% {\n",
              "      border-color: transparent;\n",
              "      border-right-color: var(--fill-color);\n",
              "    }\n",
              "    80% {\n",
              "      border-color: transparent;\n",
              "      border-right-color: var(--fill-color);\n",
              "      border-bottom-color: var(--fill-color);\n",
              "    }\n",
              "    90% {\n",
              "      border-color: transparent;\n",
              "      border-bottom-color: var(--fill-color);\n",
              "    }\n",
              "  }\n",
              "</style>\n",
              "\n",
              "  <script>\n",
              "    async function quickchart(key) {\n",
              "      const quickchartButtonEl =\n",
              "        document.querySelector('#' + key + ' button');\n",
              "      quickchartButtonEl.disabled = true;  // To prevent multiple clicks.\n",
              "      quickchartButtonEl.classList.add('colab-df-spinner');\n",
              "      try {\n",
              "        const charts = await google.colab.kernel.invokeFunction(\n",
              "            'suggestCharts', [key], {});\n",
              "      } catch (error) {\n",
              "        console.error('Error during call to suggestCharts:', error);\n",
              "      }\n",
              "      quickchartButtonEl.classList.remove('colab-df-spinner');\n",
              "      quickchartButtonEl.classList.add('colab-df-quickchart-complete');\n",
              "    }\n",
              "    (() => {\n",
              "      let quickchartButtonEl =\n",
              "        document.querySelector('#df-54615649-f9e7-4b04-b53b-e62f4432445c button');\n",
              "      quickchartButtonEl.style.display =\n",
              "        google.colab.kernel.accessAllowed ? 'block' : 'none';\n",
              "    })();\n",
              "  </script>\n",
              "</div>\n",
              "    </div>\n",
              "  </div>\n"
            ],
            "application/vnd.google.colaboratory.intrinsic+json": {
              "type": "dataframe",
              "variable_name": "data",
              "summary": "{\n  \"name\": \"data\",\n  \"rows\": 14412,\n  \"fields\": [\n    {\n      \"column\": \"comment\",\n      \"properties\": {\n        \"dtype\": \"string\",\n        \"num_unique_values\": 14412,\n        \"samples\": [\n          \"\\u0431\\u0435\\u0437\\u0440\\u043e\\u0434\\u043d\\u044b\\u0439 \\u043f\\u043e\\u0442\\u043e\\u043c\\u043e\\u043a \\u0445\\u043e\\u043b\\u043e\\u043f\\u0430 \\u0440\\u0430\\u0441\\u0441\\u0443\\u0436\\u0434\\u0430\\u0435\\u0442 \\u043e \\u043d\\u0430\\u0446\\u0438\\u043e\\u043d\\u0430\\u043b\\u044c\\u043d\\u043e\\u0439 \\u0433\\u043e\\u0440\\u0434\\u043e\\u0441\\u0442\\u0438.\\n\",\n          \"\\u0418\\u043d\\u0442\\u0435\\u0440\\u0435\\u0441\\u043d\\u0430\\u044f \\u0442\\u0435\\u043c\\u0430, \\u043e\\u0434\\u043d\\u0430\\u043a\\u043e. \\u041e\\u0422\\u041f \\u0432\\u0440\\u043e\\u0434\\u0435 \\u0432\\u0435\\u043d\\u0433\\u0435\\u0440\\u0441\\u043a\\u0438\\u0439 \\u0431\\u0430\\u043d\\u043a, \\u0432 \\u0412\\u0435\\u043d\\u0433\\u0440\\u0438\\u0438 \\u043e\\u043d \\u0441\\u0430\\u043c\\u044b\\u0439 \\u043f\\u043e\\u043f\\u0443\\u043b\\u044f\\u0440\\u043d\\u044b\\u0439, \\u0443 \\u043c\\u0435\\u043d\\u044f \\u0443 \\u0441\\u0430\\u043c\\u043e\\u0433\\u043e \\u0435\\u0433\\u043e \\u0441\\u0447\\u0451\\u0442 \\u0438 \\u043a\\u0430\\u0440\\u0442\\u0430, \\u0438\\u0431\\u043e \\u0443 \\u043d\\u0435\\u0433\\u043e \\u0434\\u043e\\u0433\\u043e\\u0432\\u043e\\u0440 \\u0441 \\u0443\\u043d\\u0438\\u0432\\u0435\\u0440\\u043e\\u043c, \\u0441\\u043a\\u0438\\u0434\\u043a\\u0438-\\u043f\\u043b\\u044e\\u0448\\u043a\\u0438-\\u0432\\u043e\\u0437\\u0432\\u0440\\u0430\\u0442 \\u0438 \\u0442.\\u043f. \\u0434\\u043b\\u044f \\u0441\\u0442\\u0443\\u0434\\u0435\\u043d\\u0442\\u043e\\u0432. \\u0418 \\u0437\\u0430 4 \\u0433\\u043e\\u0434\\u0430 \\u043f\\u043e\\u043b\\u044c\\u0437\\u043e\\u0432\\u0430\\u043d\\u0438\\u044f \\u043d\\u0438 \\u043e\\u0434\\u043d\\u043e\\u0439 \\u043f\\u0440\\u043e\\u0431\\u043b\\u0435\\u043c\\u044b, \\u043d\\u0438 \\u043e\\u0434\\u043d\\u043e\\u0439 \\u043f\\u043e\\u0434\\u043a\\u043b\\u044e\\u0447\\u0451\\u043d\\u043d\\u043e\\u0439 \\u0443\\u0441\\u043b\\u0443\\u0433\\u0438, \\u0431\\u043b\\u043e\\u043a\\u0438\\u0440\\u043e\\u0432\\u0430\\u043d\\u0438\\u044f, \\u0441\\u043f\\u0438\\u0441\\u0430\\u043d\\u0438\\u044f \\u043d\\u0438 \\u0437\\u0430 \\u0447\\u0442\\u043e \\u0438 \\u043f\\u043e\\u0434\\u043e\\u0431\\u043d\\u043e\\u0439 \\u0435\\u0440\\u0435\\u0441\\u0438, \\u043a\\u043e\\u0442\\u043e\\u0440\\u043e\\u0439 \\u0441\\u0442\\u0440\\u0430\\u0434\\u0430\\u044e\\u0442 \\u0432\\u0441\\u0435 \\u0440\\u043e\\u0441\\u0441\\u0438\\u0439\\u0441\\u043a\\u0438\\u0435 \\u0431\\u0430\\u043d\\u043a\\u0438. \\u041d\\u0438\\u043a\\u0430\\u043a\\u0438\\u0445 \\u043a\\u0440\\u0435\\u0434\\u0438\\u0442\\u043d\\u044b\\u0445 \\u043a\\u0430\\u0440\\u0442 \\u0434\\u0430\\u0436\\u0435 \\u043d\\u0435 \\u043f\\u0440\\u0435\\u0434\\u043b\\u0430\\u0433\\u0430\\u044e\\u0442 (\\u0438 \\u0432\\u043e\\u043e\\u0431\\u0449\\u0435 \\u043e \\u043f\\u043e\\u0434\\u043e\\u0431\\u043d\\u044b\\u0445 \\u0438\\u0441\\u0442\\u043e\\u0440\\u0438\\u044f\\u0445 \\u043d\\u0435 \\u0441\\u043b\\u044b\\u0448\\u0430\\u043b). \\u0412\\u044b\\u0445\\u043e\\u0434\\u0438\\u0442, \\u0431\\u0430\\u043d\\u043a \\u0442\\u043e\\u0442 \\u0436\\u0435, \\u0430 \\u043f\\u0440\\u0438\\u043d\\u0446\\u0438\\u043f \\u0440\\u0430\\u0431\\u043e\\u0442\\u044b \\u0434\\u0440\\u0443\\u0433\\u043e\\u0439, \\u0437\\u0430\\u0442\\u043e\\u0447\\u0435\\u043d\\u043d\\u044b\\u0439 \\u043f\\u043e\\u0434 \\u0440\\u043e\\u0441\\u0441\\u0438\\u0439\\u0441\\u043a\\u0438\\u0439 \\u043a\\u043b\\u0438\\u0435\\u043d\\u0442 - \\u043b\\u043e\\u0445 . P.S. \\u0412 \\u0412\\u0435\\u043d\\u0433\\u0440\\u0438\\u0438 \\u0432\\u0441\\u0435 \\u0431\\u0430\\u043d\\u043a\\u0438 \\u0448\\u043b\\u044e\\u0442 \\u043a\\u0430\\u0440\\u0442\\u044b \\u043f\\u043e \\u043f\\u043e\\u0447\\u0442\\u0435, \\u043c\\u043e\\u044f \\u043a\\u0430\\u043a \\u0440\\u0430\\u0437 \\u0432 \\u044d\\u0442\\u043e\\u043c \\u043c\\u0435\\u0441\\u044f\\u0446\\u0435 \\u043f\\u0440\\u0438\\u0448\\u043b\\u0430. \\u041d\\u043e \\u0432 \\u043f\\u043e\\u0447\\u0442\\u043e\\u0432\\u044b\\u0439 \\u044f\\u0449\\u0438\\u043a \\u0438\\u0445 \\u043d\\u0438 \\u0437\\u0430 \\u0447\\u0442\\u043e \\u043d\\u0435 \\u043a\\u0438\\u043d\\u0443\\u0442. \\u041b\\u0438\\u0431\\u043e \\u0432 \\u0440\\u0443\\u043a\\u0438, \\u043b\\u0438\\u0431\\u043e \\u0438\\u0437\\u0432\\u0435\\u0449\\u0435\\u043d\\u0438\\u0435 \\u0447\\u0442\\u043e\\u0431 \\u0437\\u0430\\u0431\\u0440\\u0430\\u043b \\u043d\\u0430 \\u043f\\u043e\\u0447\\u0442\\u0435. \\u0410 \\u043f\\u043e\\u0447\\u0442\\u0430 \\u043f\\u043e\\u0440\\u044f\\u0434\\u043e\\u0447\\u043d\\u0430\\u044f\\n\",\n          \"\\u0421\\u0443\\u0442\\u044c \\u0442\\u0440\\u0435\\u0431\\u043e\\u0432\\u0430\\u043d\\u0438\\u044f \\u043f\\u0440\\u043e \\u041230 - \\u043d\\u0435 \\u043f\\u0440\\u043e\\u0447\\u043d\\u043e\\u0441\\u0442\\u044c, \\u0430 \\u0432\\u043e\\u0434\\u043e\\u043d\\u0435\\u043f\\u0440\\u043e\\u043d\\u0438\\u0446\\u0430\\u0435\\u043c\\u043e\\u0441\\u0442\\u044c. \\u0412\\u043e\\u0434\\u043e\\u043d\\u0435\\u043f\\u0440\\u043e\\u043d\\u0438\\u0446\\u0430\\u0435\\u043c\\u043e\\u0441\\u0442\\u044c \\u0432\\u043e\\u043e\\u0431\\u0449\\u0435 \\u0442\\u043e \\u043e\\u0431\\u043e\\u0437\\u043d\\u0430\\u0447\\u0430\\u0435\\u0442\\u0441\\u044f W, \\u043d\\u0443 \\u0434\\u0430 \\u043d\\u0435 \\u0441\\u0443\\u0442\\u044c, \\u0437\\u0430\\u0447\\u0435\\u043c \\u043c\\u043d\\u0435 \\u043e\\u043d\\u0430 \\u0432 \\u043b\\u0435\\u043d\\u0442\\u0435 \\u043f\\u043e\\u0434 \\u0437\\u0435\\u043c\\u043b\\u0451\\u0439 ?\\n\"\n        ],\n        \"semantic_type\": \"\",\n        \"description\": \"\"\n      }\n    },\n    {\n      \"column\": \"toxic\",\n      \"properties\": {\n        \"dtype\": \"number\",\n        \"std\": 0.4719578187708464,\n        \"min\": 0.0,\n        \"max\": 1.0,\n        \"num_unique_values\": 2,\n        \"samples\": [\n          0.0,\n          1.0\n        ],\n        \"semantic_type\": \"\",\n        \"description\": \"\"\n      }\n    }\n  ]\n}"
            }
          },
          "metadata": {},
          "execution_count": 9
        }
      ],
      "source": [
        "data.head()"
      ]
    },
    {
      "cell_type": "code",
      "source": [
        "!pip install razdel"
      ],
      "metadata": {
        "colab": {
          "base_uri": "https://localhost:8080/"
        },
        "id": "HZz1XrUCIpLa",
        "outputId": "ba896bd7-8001-48d6-a2b2-645ec8eff77f"
      },
      "id": "HZz1XrUCIpLa",
      "execution_count": 10,
      "outputs": [
        {
          "output_type": "stream",
          "name": "stdout",
          "text": [
            "Collecting razdel\n",
            "  Downloading razdel-0.5.0-py3-none-any.whl.metadata (10.0 kB)\n",
            "Downloading razdel-0.5.0-py3-none-any.whl (21 kB)\n",
            "Installing collected packages: razdel\n",
            "Successfully installed razdel-0.5.0\n"
          ]
        }
      ]
    },
    {
      "cell_type": "code",
      "execution_count": 11,
      "id": "1d2477b9",
      "metadata": {
        "colab": {
          "base_uri": "https://localhost:8080/"
        },
        "id": "1d2477b9",
        "outputId": "7c3c78f7-82ec-4325-b4bd-3209c577aa45"
      },
      "outputs": [
        {
          "output_type": "stream",
          "name": "stderr",
          "text": [
            "/usr/local/lib/python3.10/dist-packages/sklearn/feature_extraction/text.py:521: UserWarning: The parameter 'token_pattern' will not be used since 'tokenizer' is not None'\n",
            "  warnings.warn(\n"
          ]
        },
        {
          "output_type": "stream",
          "name": "stdout",
          "text": [
            "Метрики для дефолтной токенизации:\n",
            "              precision    recall  f1-score   support\n",
            "\n",
            "         0.0       0.84      0.97      0.90      2906\n",
            "         1.0       0.90      0.63      0.74      1418\n",
            "\n",
            "    accuracy                           0.86      4324\n",
            "   macro avg       0.87      0.80      0.82      4324\n",
            "weighted avg       0.86      0.86      0.85      4324\n",
            "\n",
            "Метрики для кастомной токенизации (razdel):\n",
            "              precision    recall  f1-score   support\n",
            "\n",
            "         0.0       0.83      0.97      0.89      2906\n",
            "         1.0       0.90      0.60      0.72      1418\n",
            "\n",
            "    accuracy                           0.85      4324\n",
            "   macro avg       0.87      0.78      0.81      4324\n",
            "weighted avg       0.85      0.85      0.84      4324\n",
            "\n"
          ]
        }
      ],
      "source": [
        "from sklearn.feature_extraction.text import CountVectorizer\n",
        "from sklearn.model_selection import train_test_split\n",
        "from sklearn.naive_bayes import MultinomialNB\n",
        "from sklearn.metrics import accuracy_score, f1_score, classification_report\n",
        "import razdel\n",
        "\n",
        "X_train, X_test, y_train, y_test = train_test_split(data['comment'], data['toxic'], test_size=0.3, random_state=42)\n",
        "\n",
        "default_vectorizer = CountVectorizer()\n",
        "X_train_default = default_vectorizer.fit_transform(X_train)\n",
        "X_test_default = default_vectorizer.transform(X_test)\n",
        "\n",
        "razdel_vectorizer = CountVectorizer(tokenizer=(lambda text: [token.text for token in razdel.tokenize(text)]))\n",
        "X_train_razdel = razdel_vectorizer.fit_transform(X_train)\n",
        "X_test_razdel = razdel_vectorizer.transform(X_test)\n",
        "\n",
        "clf_default = MultinomialNB()\n",
        "clf_default.fit(X_train_default, y_train)\n",
        "y_pred_default = clf_default.predict(X_test_default)\n",
        "\n",
        "clf_razdel = MultinomialNB()\n",
        "clf_razdel.fit(X_train_razdel, y_train)\n",
        "y_pred_razdel = clf_razdel.predict(X_test_razdel)\n",
        "\n",
        "metric_default = classification_report(y_test, y_pred_default)\n",
        "\n",
        "metric_razdel = classification_report(y_test, y_pred_razdel)\n",
        "\n",
        "print(\"Метрики для дефолтной токенизации:\")\n",
        "print(metric_default)\n",
        "\n",
        "print(\"Метрики для кастомной токенизации (razdel):\")\n",
        "print(metric_razdel)\n"
      ]
    },
    {
      "cell_type": "markdown",
      "id": "91b9076e",
      "metadata": {
        "id": "91b9076e"
      },
      "source": [
        "## Задание 2 (3 балла)"
      ]
    },
    {
      "cell_type": "markdown",
      "id": "14e25357",
      "metadata": {
        "id": "14e25357"
      },
      "source": [
        "Обучите 2 любых разных классификатора из семинара. Предскажите токсичность для текстов из тестовой выборки (используйте одну и ту же выборку для обоих классификаторов) и найдите 10 самых токсичных для каждого из классификаторов. Сравните получаемые тексты - какие тексты совпадают, какие отличаются, правда ли тексты токсичные?"
      ]
    },
    {
      "cell_type": "markdown",
      "id": "7de962ad",
      "metadata": {
        "id": "7de962ad"
      },
      "source": [
        "Требования к моделям:   \n",
        "а) один классификатор должен использовать CountVectorizer, другой TfidfVectorizer  \n",
        "б) у векторазера должны быть вручную заданы как минимум 5 параметров (можно ставить разные параметры tfidfvectorizer и countvectorizer)  \n",
        "в) у классификатора должно быть задано вручную как минимум 2 параметра (по возможности)  \n",
        "г)  f1 мера каждого из классификаторов должна быть минимум 0.75  \n",
        "\n",
        "*random_seed не считается за параметр"
      ]
    },
    {
      "cell_type": "code",
      "source": [],
      "metadata": {
        "id": "AVerlKJV8cJn"
      },
      "id": "AVerlKJV8cJn",
      "execution_count": 100,
      "outputs": []
    },
    {
      "cell_type": "code",
      "source": [
        "from nltk.corpus import stopwords\n",
        "import nltk\n",
        "from sklearn.feature_extraction.text import CountVectorizer\n",
        "import numpy as np\n",
        "from sklearn.feature_extraction.text import TfidfVectorizer\n",
        "from sklearn.naive_bayes import MultinomialNB\n",
        "\n",
        "nltk.download('stopwords')\n",
        "russian_stopwords = set(stopwords.words(\"russian\"))\n",
        "\n",
        "vectorizer = CountVectorizer(stop_words=list(russian_stopwords), encoding = \"utf-8\", decode_error = \"strict\", lowercase = True, ngram_range = (1,1))\n",
        "X_train_vect = vectorizer.fit_transform(X_train)\n",
        "X_test_vect = vectorizer.transform(X_test)\n",
        "feature_names = np.array(vectorizer.get_feature_names_out())"
      ],
      "metadata": {
        "colab": {
          "base_uri": "https://localhost:8080/"
        },
        "id": "33EnQfpR8hWi",
        "outputId": "53459f5c-756c-40ae-ffe0-298ccd6f00db"
      },
      "id": "33EnQfpR8hWi",
      "execution_count": 215,
      "outputs": [
        {
          "output_type": "stream",
          "name": "stderr",
          "text": [
            "[nltk_data] Downloading package stopwords to /root/nltk_data...\n",
            "[nltk_data]   Package stopwords is already up-to-date!\n"
          ]
        }
      ]
    },
    {
      "cell_type": "code",
      "execution_count": 258,
      "id": "ac0a5471",
      "metadata": {
        "id": "ac0a5471",
        "colab": {
          "base_uri": "https://localhost:8080/"
        },
        "outputId": "eebbc26f-f507-4e69-abfb-40c4436cf7aa"
      },
      "outputs": [
        {
          "output_type": "execute_result",
          "data": {
            "text/plain": [
              "['то что ты сам написал про хохлов\\n',\n",
              " 'Бля пиздец хохлы казахи дегенарты\\n',\n",
              " 'соси как хохлы сосут хохол\\n',\n",
              " 'Хохлы пидоры. У вас тоже хохол под кроватью?\\n',\n",
              " 'Блядь абу нахуй ссылай этих дегенератов в фаг, всем похуй на их шлюх\\n',\n",
              " 'АЛЛО БЛЯДЬ АБУ ТЫ Ч ОХУЕЛ? ВЫГОНЯЙ НАХУЙ СВОЕГО ПОДЗАЛУПНОГО ДРУЖКА ВАРЛАМОВА НАХУЙ ИЗ Б ЭТА ХУЙНЯ ЗАЕБАЛА В 5 ТРЕДОВ БЛЯДЬ НА ГЛАВНОЙ ВИСЕТЬ, БАНЫЙ ТВОЙ РОТ ДЫРЯВЫЙ БЛЯДЬ, ПРОДАЖНАЯ МРАЗЬ!\\n',\n",
              " 'У-ух, ненавижу, блядь, хохлов.\\n',\n",
              " 'Ебать вы тупые дебилы, ой блять\\n',\n",
              " 'Нахуй иди, я тебе весь тред что ли читать буду? Пидор, бешбармак тебе в хычин!\\n',\n",
              " 'Нахуй иди чмо ебаное, рот твой ебал. Говна поешь, быдло\\n']"
            ]
          },
          "metadata": {},
          "execution_count": 258
        }
      ],
      "source": [
        "logreg = LogisticRegression(random_state=42, max_iter=1000, C=1.0)\n",
        "logreg.fit(X_train_vect, y_train)\n",
        "train_proba = logreg.predict_proba(X_train_vect)[:, 1]\n",
        "top10_indices = np.argsort(train_proba)[-10:]\n",
        "top10_texts = X_train.iloc[top10_indices].tolist()\n",
        "top10_texts"
      ]
    },
    {
      "cell_type": "code",
      "execution_count": 259,
      "id": "90311fac",
      "metadata": {
        "id": "90311fac",
        "colab": {
          "base_uri": "https://localhost:8080/"
        },
        "outputId": "44bd6207-75ca-40f9-9f3d-f8a82620853b"
      },
      "outputs": [
        {
          "output_type": "execute_result",
          "data": {
            "text/plain": [
              "0.7893874550484907"
            ]
          },
          "metadata": {},
          "execution_count": 259
        }
      ],
      "source": [
        "f1_logreg = f1_score(y_test, logreg.predict(X_test_vect), average=\"weighted\")\n",
        "f1_logreg"
      ]
    },
    {
      "cell_type": "code",
      "source": [
        "vectorizer = TfidfVectorizer(stop_words=list(russian_stopwords))\n",
        "X_train_vect = vectorizer.fit_transform(X_train)\n",
        "X_test_vect = vectorizer.transform(X_test)\n",
        "\n",
        "nb = MultinomialNB(alpha=0.5, force_alpha=True)\n",
        "nb.fit(X_train_vect, y_train)\n",
        "train_proba = nb.predict_proba(X_train_vect)[:, 1]\n",
        "top10_indices = np.argsort(train_proba)[-10:]\n",
        "\n",
        "top10_texts = X_train.iloc[top10_indices].tolist()\n",
        "top10_texts"
      ],
      "metadata": {
        "colab": {
          "base_uri": "https://localhost:8080/"
        },
        "id": "C9fuxwgbHOGP",
        "outputId": "3945e9d1-8bb6-4852-c4fd-bc860fad6b28"
      },
      "id": "C9fuxwgbHOGP",
      "execution_count": 260,
      "outputs": [
        {
          "output_type": "execute_result",
          "data": {
            "text/plain": [
              "['Сириусли? Ну мразь ебаная, в край уже охуела и хули вы там сидите-пердите, надо этой шкуре показать, шо ее место под шконкой. Мразь охуевшая, а по ебасосине ее тупорылой не задонатить? Пиздец, как она меня бесит.\\n',\n",
              " 'У-ух, ненавижу, блядь, хохлов.\\n',\n",
              " 'а ты че? самый умный чтоли? хуй соси, губой тряси! даун ты тупорылый, блядь!!!!\\n',\n",
              " 'Перепутали в роддоме негритенка, хохла и русского. Хохол такой заходит в палату и кричит Слава Украине! Негритенок засмеялся, а русский и хохленок обосрались и как давай говном кидаться.\\n',\n",
              " 'Хохлы пидоры. У вас тоже хохол под кроватью?\\n',\n",
              " 'Какие блять передергивания? Ты дебил блять зашел на шок-доску и удивляешься что над тобой издеваются. Тут нет твоих друзей, рачье тупорылое, тут тебя все ненавидят. Как же печет от таких необучаемых ебланов. Ты ковбой, твою жену ебут где-то нахуй, а дети гибнут на Украине. Понял, быдло ты ебаное?\\n',\n",
              " 'АЛЛО БЛЯДЬ АБУ ТЫ Ч ОХУЕЛ? ВЫГОНЯЙ НАХУЙ СВОЕГО ПОДЗАЛУПНОГО ДРУЖКА ВАРЛАМОВА НАХУЙ ИЗ Б ЭТА ХУЙНЯ ЗАЕБАЛА В 5 ТРЕДОВ БЛЯДЬ НА ГЛАВНОЙ ВИСЕТЬ, БАНЫЙ ТВОЙ РОТ ДЫРЯВЫЙ БЛЯДЬ, ПРОДАЖНАЯ МРАЗЬ!\\n',\n",
              " 'соси как хохлы сосут хохол\\n',\n",
              " 'Что? Какой денежный петух? Нет у хохлов своих сказок, коммуняки потом навыдумали хохлам культурку. А по факту то нация свинопасов и быдла, не городская. В том же Львове жили в основном поляки и евреи - городское население, а хохлы так. Быдло и селюки.\\n',\n",
              " 'Нахуй иди чмо ебаное, рот твой ебал. Говна поешь, быдло\\n']"
            ]
          },
          "metadata": {},
          "execution_count": 260
        }
      ]
    },
    {
      "cell_type": "code",
      "source": [
        "f1_nb = f1_score(y_test, nb.predict(X_test_vect), average=\"weighted\")\n",
        "f1_nb"
      ],
      "metadata": {
        "colab": {
          "base_uri": "https://localhost:8080/"
        },
        "id": "hRfNs-wsI1yB",
        "outputId": "5d8da8a6-cbe9-4212-9174-917e5a7016af"
      },
      "id": "hRfNs-wsI1yB",
      "execution_count": 261,
      "outputs": [
        {
          "output_type": "execute_result",
          "data": {
            "text/plain": [
              "0.8054736703584496"
            ]
          },
          "metadata": {},
          "execution_count": 261
        }
      ]
    },
    {
      "cell_type": "markdown",
      "source": [
        "Можно заметить, что тексты похожие, но имеют отличе в зависиомтси от использования разных векторазеров и моделей. Получаемые разлчия лежат в их матеиматической природе, тк тфидф выделяет самые значимые, а каунтвекторайзер самые частые, схожие процессы наблюдаются и в моделях."
      ],
      "metadata": {
        "id": "yZZgSuBJES4l"
      },
      "id": "yZZgSuBJES4l"
    },
    {
      "cell_type": "markdown",
      "id": "6f228c3e",
      "metadata": {
        "id": "6f228c3e"
      },
      "source": [
        "## Задание 3 (4 балла - 1 балл за каждый классификатор)"
      ]
    },
    {
      "cell_type": "markdown",
      "id": "566929b7",
      "metadata": {
        "id": "566929b7"
      },
      "source": [
        "Для классификаторов Logistic Regression, Decision Trees, Naive Bayes, RandomForest найдите способ извлечь важность признаков для предсказания токсичного класса. Сопоставьте полученные числа со словами (или нграммами) в словаре и найдите топ - 5 \"токсичных\" слов для каждого из классификаторов.\n",
        "\n",
        "Важное требование: в топе не должно быть стоп-слов. Для этого вам нужно будет правильным образом настроить векторизацию.\n",
        "Также как и в предыдущем задании у классификаторов должно быть задано вручную как минимум 2 параметра (по возможности, f1 мера каждого из классификаторов должна быть минимум 0.75"
      ]
    },
    {
      "cell_type": "code",
      "execution_count": 223,
      "id": "81f86878",
      "metadata": {
        "colab": {
          "base_uri": "https://localhost:8080/"
        },
        "id": "81f86878",
        "outputId": "2e42e720-d9fc-415a-ec26-dc76911f69b1"
      },
      "outputs": [
        {
          "output_type": "stream",
          "name": "stderr",
          "text": [
            "[nltk_data] Downloading package stopwords to /root/nltk_data...\n",
            "[nltk_data]   Package stopwords is already up-to-date!\n"
          ]
        }
      ],
      "source": [
        "from sklearn.feature_extraction.text import CountVectorizer\n",
        "from sklearn.model_selection import train_test_split\n",
        "from sklearn.linear_model import LogisticRegression\n",
        "from sklearn.tree import DecisionTreeClassifier\n",
        "from sklearn.ensemble import RandomForestClassifier\n",
        "from sklearn.naive_bayes import MultinomialNB\n",
        "from sklearn.metrics import f1_score\n",
        "import numpy as np\n",
        "from nltk.corpus import stopwords\n",
        "import nltk\n",
        "\n",
        "nltk.download('stopwords')\n",
        "russian_stopwords = set(stopwords.words(\"russian\"))\n",
        "\n",
        "vectorizer = CountVectorizer(stop_words=list(russian_stopwords))\n",
        "X_train_vect = vectorizer.fit_transform(X_train)\n",
        "X_test_vect = vectorizer.transform(X_test)\n",
        "\n",
        "feature_names = np.array(vectorizer.get_feature_names_out())"
      ]
    },
    {
      "cell_type": "code",
      "source": [
        "# 1. Logistic Regression\n",
        "logreg = LogisticRegression(random_state=42, max_iter=1000, C=1.0)  # Настроенные параметры\n",
        "logreg.fit(X_train_vect, y_train)\n",
        "coefficients = logreg.coef_[0]\n",
        "top5_logreg = feature_names[np.argsort(coefficients)[-5:]]\n",
        "f1_logreg = f1_score(y_test, logreg.predict(X_test_vect), average=\"weighted\")\n",
        "print(\"Топ-5 токсичных слов (Logistic Regression):\", top5_logreg)\n",
        "print(\"F1-мера Logistic Regression:\", f1_logreg)"
      ],
      "metadata": {
        "id": "1Opo3z_vCPXQ",
        "colab": {
          "base_uri": "https://localhost:8080/"
        },
        "outputId": "afa3dbf8-5c77-4351-d320-dea2a6812a03"
      },
      "id": "1Opo3z_vCPXQ",
      "execution_count": 224,
      "outputs": [
        {
          "output_type": "stream",
          "name": "stdout",
          "text": [
            "Топ-5 токсичных слов (Logistic Regression): ['хохол' 'дебил' 'быдло' 'хохлов' 'хохлы']\n",
            "F1-мера Logistic Regression: 0.8358818509483684\n"
          ]
        }
      ]
    },
    {
      "cell_type": "code",
      "source": [
        "# 2. Decision Tree\n",
        "dt = DecisionTreeClassifier(\n",
        "    random_state=42,\n",
        "    max_depth=300,  # Увеличение глубины\n",
        "    min_samples_split=250,  # Уменьшение минимального количества выборок для разделения\n",
        "    min_samples_leaf=2, # Увеличение минимального количества образцов в листе\n",
        "    splitter='random',\n",
        ")\n",
        "dt.fit(X_train_vect, y_train)\n",
        "importances_dt = dt.feature_importances_\n",
        "top5_dt = feature_names[np.argsort(importances_dt)[-5:]]\n",
        "f1_dt = f1_score(y_test, dt.predict(X_test_vect), average=\"weighted\")\n",
        "print(\"Топ-5 токсичных слов (Decision Tree):\", top5_dt)\n",
        "print(\"F1-мера Decision Tree:\", f1_dt)"
      ],
      "metadata": {
        "id": "Z0n7tglUCRko",
        "colab": {
          "base_uri": "https://localhost:8080/"
        },
        "outputId": "928351e7-a51d-422c-add6-9960b10788bf"
      },
      "id": "Z0n7tglUCRko",
      "execution_count": 245,
      "outputs": [
        {
          "output_type": "stream",
          "name": "stdout",
          "text": [
            "Топ-5 токсичных слов (Decision Tree): ['очень' 'нахуй' 'тебе' 'хохлов' 'хохлы']\n",
            "F1-мера Decision Tree: 0.7541732238138356\n"
          ]
        }
      ]
    },
    {
      "cell_type": "code",
      "source": [
        "# 3. Random Forest\n",
        "rf = RandomForestClassifier(\n",
        "    random_state=42,\n",
        "    n_estimators=300,# Больше деревьев для уменьшения переобучения\n",
        "    max_features = 300,\n",
        "    max_depth=300,  # Увеличение максимальной глубины\n",
        "    min_samples_split=5,  # Более тонкая грануляция сплитов\n",
        "    min_samples_leaf=2  # Увеличение минимального количества образцов в листьях\n",
        ")\n",
        "rf.fit(X_train_vect, y_train)\n",
        "importances_rf = rf.feature_importances_\n",
        "top5_rf = feature_names[np.argsort(importances_rf)[-5:]]\n",
        "f1_rf = f1_score(y_test, rf.predict(X_test_vect), average=\"weighted\")\n",
        "print(\"Топ-5 токсичных слов (Random Forest):\", top5_rf)\n",
        "print(\"F1-мера Random Forest:\", f1_rf)"
      ],
      "metadata": {
        "id": "XFV-KvSkCLNs",
        "colab": {
          "base_uri": "https://localhost:8080/"
        },
        "outputId": "d3ca9143-3269-41ad-edf9-2ef95bf7797c"
      },
      "id": "XFV-KvSkCLNs",
      "execution_count": 246,
      "outputs": [
        {
          "output_type": "stream",
          "name": "stdout",
          "text": [
            "Топ-5 токсичных слов (Random Forest): ['нахуй' 'тебе' 'очень' 'хохлов' 'хохлы']\n",
            "F1-мера Random Forest: 0.7680925830809464\n"
          ]
        }
      ]
    },
    {
      "cell_type": "code",
      "source": [
        "# 4. Naive Bayes\n",
        "nb = MultinomialNB(alpha=1.0)  # Настроенный параметр\n",
        "nb.fit(X_train_vect, y_train)\n",
        "log_prob_nb = nb.feature_log_prob_[1]  # Логарифмическая вероятность для токсичного класса\n",
        "top5_nb = feature_names[np.argsort(log_prob_nb)[-5:]]\n",
        "f1_nb = f1_score(y_test,  nb.predict(X_test_vect), average=\"weighted\")\n",
        "print(\"Топ-5 токсичных слов (Naive Bayes):\", top5_nb)\n",
        "print(\"F1-мера Naive Bayes:\", f1_nb)"
      ],
      "metadata": {
        "id": "2PcWs_bsCHDz",
        "colab": {
          "base_uri": "https://localhost:8080/"
        },
        "outputId": "05ec4b11-4cf3-41ea-e07b-d9b41920a9ea"
      },
      "id": "2PcWs_bsCHDz",
      "execution_count": 228,
      "outputs": [
        {
          "output_type": "stream",
          "name": "stdout",
          "text": [
            "Топ-5 токсичных слов (Naive Bayes): ['ещё' 'вообще' 'тебе' 'просто' 'это']\n",
            "F1-мера Naive Bayes: 0.8584696307201762\n"
          ]
        }
      ]
    },
    {
      "cell_type": "code",
      "source": [
        "print(\"Топ-5 токсичных слов (Logistic Regression):\", top5_logreg)\n",
        "print(\"F1-мера Logistic Regression:\", f1_logreg)\n",
        "print()\n",
        "print(\"Топ-5 токсичных слов (Decision Tree):\", top5_dt)\n",
        "print(\"F1-мера Decision Tree:\", f1_dt)\n",
        "print()\n",
        "print(\"Топ-5 токсичных слов (Random Forest):\", top5_rf)\n",
        "print(\"F1-мера Random Forest:\", f1_rf)\n",
        "print()\n",
        "print(\"Топ-5 токсичных слов (Naive Bayes):\", top5_nb)\n",
        "print(\"F1-мера Naive Bayes:\", f1_nb)"
      ],
      "metadata": {
        "id": "YRVkinNpNZ1b",
        "colab": {
          "base_uri": "https://localhost:8080/"
        },
        "outputId": "4fdd5dad-98d5-471f-d77f-505edae15fbb"
      },
      "id": "YRVkinNpNZ1b",
      "execution_count": 262,
      "outputs": [
        {
          "output_type": "stream",
          "name": "stdout",
          "text": [
            "Топ-5 токсичных слов (Logistic Regression): ['хохол' 'дебил' 'быдло' 'хохлов' 'хохлы']\n",
            "F1-мера Logistic Regression: 0.7893874550484907\n",
            "\n",
            "Топ-5 токсичных слов (Decision Tree): ['очень' 'нахуй' 'тебе' 'хохлов' 'хохлы']\n",
            "F1-мера Decision Tree: 0.7541732238138356\n",
            "\n",
            "Топ-5 токсичных слов (Random Forest): ['нахуй' 'тебе' 'очень' 'хохлов' 'хохлы']\n",
            "F1-мера Random Forest: 0.7680925830809464\n",
            "\n",
            "Топ-5 токсичных слов (Naive Bayes): ['ещё' 'вообще' 'тебе' 'просто' 'это']\n",
            "F1-мера Naive Bayes: 0.8054736703584496\n"
          ]
        }
      ]
    },
    {
      "cell_type": "code",
      "source": [],
      "metadata": {
        "id": "Hfl5y7eOLDpS"
      },
      "id": "Hfl5y7eOLDpS",
      "execution_count": null,
      "outputs": []
    },
    {
      "cell_type": "markdown",
      "source": [
        "Мемасик за просрочку до 2ч"
      ],
      "metadata": {
        "id": "VMEMVxsAKPUR"
      },
      "id": "VMEMVxsAKPUR"
    },
    {
      "cell_type": "markdown",
      "source": [
        "![photo_2024-11-25 00.51.23.jpeg](data:image/jpeg;base64,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)"
      ],
      "metadata": {
        "id": "tWnAAnHCJwb2"
      },
      "id": "tWnAAnHCJwb2"
    },
    {
      "cell_type": "code",
      "source": [],
      "metadata": {
        "id": "TN08XIWNJyls"
      },
      "id": "TN08XIWNJyls",
      "execution_count": null,
      "outputs": []
    }
  ],
  "metadata": {
    "kernelspec": {
      "display_name": "Python 3 (ipykernel)",
      "language": "python",
      "name": "python3"
    },
    "language_info": {
      "codemirror_mode": {
        "name": "ipython",
        "version": 3
      },
      "file_extension": ".py",
      "mimetype": "text/x-python",
      "name": "python",
      "nbconvert_exporter": "python",
      "pygments_lexer": "ipython3",
      "version": "3.8.14"
    },
    "colab": {
      "provenance": []
    }
  },
  "nbformat": 4,
  "nbformat_minor": 5
}